{
  "nbformat": 4,
  "nbformat_minor": 0,
  "metadata": {
    "colab": {
      "name": "MLP Backpropagation",
      "provenance": [],
      "collapsed_sections": [],
      "include_colab_link": true
    },
    "kernelspec": {
      "name": "python3",
      "display_name": "Python 3"
    },
    "accelerator": "GPU"
  },
  "cells": [
    {
      "cell_type": "markdown",
      "metadata": {
        "id": "view-in-github",
        "colab_type": "text"
      },
      "source": [
        "<a href=\"https://colab.research.google.com/github/luizcalabria/redes_neurais_pos/blob/main/MLP_Backpropagation.ipynb\" target=\"_parent\"><img src=\"https://colab.research.google.com/assets/colab-badge.svg\" alt=\"Open In Colab\"/></a>"
      ]
    },
    {
      "cell_type": "code",
      "metadata": {
        "id": "gquVOlEzAIeg",
        "colab": {
          "base_uri": "https://localhost:8080/"
        },
        "outputId": "40961cfa-8ba5-40ba-bf68-24683d495a9a"
      },
      "source": [
        "!git clone https://github.com/valmirf/redes_neurais_pos.git"
      ],
      "execution_count": 1,
      "outputs": [
        {
          "output_type": "stream",
          "text": [
            "Cloning into 'redes_neurais_pos'...\n",
            "remote: Enumerating objects: 85, done.\u001b[K\n",
            "remote: Counting objects: 100% (85/85), done.\u001b[K\n",
            "remote: Compressing objects: 100% (77/77), done.\u001b[K\n",
            "remote: Total 85 (delta 23), reused 8 (delta 0), pack-reused 0\u001b[K\n",
            "Unpacking objects: 100% (85/85), done.\n"
          ],
          "name": "stdout"
        }
      ]
    },
    {
      "cell_type": "markdown",
      "metadata": {
        "id": "PJEk_jQrrJXn"
      },
      "source": [
        "##Multipayer Perceptron (MLP)\n",
        "\n",
        "Rede Neural baseado no algoritmo de gradiente descendente.  \n",
        "Os gradientes são calculados usando backpropagation. \n",
        "\n",
        "Para mais detalhes, ver os capitulos 13 a 16 do livro no site:\n",
        "\n",
        "http://deeplearningbook.com.br/"
      ]
    },
    {
      "cell_type": "code",
      "metadata": {
        "id": "JNeeLtK58tGe"
      },
      "source": [
        "import random\n",
        "import numpy as np\n",
        "import pandas as pd"
      ],
      "execution_count": 2,
      "outputs": []
    },
    {
      "cell_type": "markdown",
      "metadata": {
        "id": "BPjNMuBE8UcP"
      },
      "source": [
        "A entrada é uma lista (`sizes`) contém o número de neurônios nas respectivas camadas da rede. Por exemplo, se a lista for [2, 3, 1] então será uma rede de três camadas, com o primeira camada contendo 2 neurônios, a segunda camada 3 neurônios, e a terceira camada 1 neurônio. Os bias e pesos para a rede são inicializados aleatoriamente, usando uma distribuição Gaussiana com média 0 e variância 1. Note que a primeira camada é assumida como uma camada de entrada, e por convenção não definimos nenhum bias para esses neurônios, pois os bias são usados na computação das saídas das camadas posteriores.\n"
      ]
    },
    {
      "cell_type": "code",
      "metadata": {
        "id": "tGf77mI_vuzP"
      },
      "source": [
        "# Classe Network\n",
        "class Network(object):\n",
        "\n",
        "    def __init__(self, sizes):\n",
        "        self.num_layers = len(sizes)  #número de neurônios em cada camada\n",
        "        self.sizes = sizes\n",
        "        self.biases = [np.random.randn(y, 1) for y in sizes[1:]] #limiar\n",
        "        self.weights = [np.random.randn(y, x) for x, y in zip(sizes[:-1], sizes[1:])] #pesos\n",
        "        self.activate_function = 'SIGMOID'\n",
        "\n",
        "    def feedforward(self, x):\n",
        "        \"\"\"Retorna a saída da rede z se `x` for entrada.\"\"\"\n",
        "        for b, w in zip(self.biases, self.weights):\n",
        "            #x = sigmoid(np.dot(w, x)+b) #net = (∑xw+b)\n",
        "            x = activate(np.dot(w, x)+b, self.activate_function) #net = (∑xw+b)\n",
        "        return x\n",
        "\n",
        "    def SGD(self, training_data, epochs, mini_batch_size, 𝜂, test_data=None, activate_function='SIGMOID', smart_tx=False,arq=None):\n",
        "        \"\"\"Treinar a rede neural usando o algoritmo mini batch com gradiente descendente. \n",
        "         A entrada é uma lista de tuplas\n",
        "         `(x, y)` representando as entradas de treinamento e as\n",
        "         saídas. Os outros parâmetros não opcionais são\n",
        "         auto-explicativos. Se `test_data` for fornecido, então a\n",
        "         rede será avaliada em relação aos dados do teste após cada\n",
        "         época e progresso parcial impresso. Isso é útil para\n",
        "         acompanhar o progresso, mas retarda as coisas substancialmente.\"\"\"\n",
        "\n",
        "        self.activate_function = activate_function\n",
        "        colunas = [\"HiddenLayers\", \"Config\", \"Função\", \"Taxa\", \"Epoch\", \"Accur\"]\n",
        "        df = pd.DataFrame(columns=colunas)           \n",
        "        #dataset de treino\n",
        "        training_data = list(training_data)\n",
        "        n = len(training_data)\n",
        "        \n",
        "        #dataset de teste\n",
        "        if test_data:\n",
        "            test_data = list(test_data)\n",
        "            n_test = len(test_data)\n",
        "\n",
        "        for j in range(epochs):\n",
        "            random.shuffle(training_data)\n",
        "            #técnica que realiza o treinamento por lotes\n",
        "            #mini_batch_size = tamanho do lote\n",
        "            mini_batches = [training_data[k:k+mini_batch_size] for k in range(0, n, mini_batch_size)]\n",
        "\n",
        "            if smart_tx :\n",
        "              𝜂 = 0.97 * 𝜂 #decresce 𝜂 em 3%\n",
        "\n",
        "            for mini_batch in mini_batches:\n",
        "                self.update_mini_batch(mini_batch, 𝜂)\n",
        "            \n",
        "            if test_data:\n",
        "                acc = self.evaluate(test_data)\n",
        "                #print(\"    Epoch {} : {} / {} = {}%, activation={}, 𝜂={}\".format(j,acc,n_test,(acc*100)/n_test, self.activate_function, 𝜂));\n",
        "                dados=[{'HiddenLayers': len(arq)-2, 'Config': arq, 'Função':self.activate_function, 'Taxa':𝜂, 'Epoch':j, 'Accur':(acc*100)/n_test}]\n",
        "                df = df.append(dados,ignore_index=False)\n",
        "            else:\n",
        "                print(\"    Epoch {} finalizada\".format(j))\n",
        "        return df \n",
        "    def update_mini_batch(self, mini_batch, 𝜂):\n",
        "        \"\"\"Atualiza os pesos e limiares da rede aplicando\n",
        "         a descida do gradiente usando backpropagation para um único mini lote.\n",
        "         O `mini_batch` é uma lista de tuplas `(x, y)`, e `a` é a taxa de aprendizado.\"\"\"\n",
        "\n",
        "        #inicializa matriz com derivadas de pesos e limiares\n",
        "        nabla_w = [np.zeros(w.shape) for w in self.weights]\n",
        "        nabla_b = [np.zeros(b.shape) for b in self.biases]\n",
        "\n",
        "        for x, y in mini_batch:\n",
        "            #resultado dos deltas do backpropagation sem a multiplicação da taxa de aprendizagem\n",
        "            #soma os deltas do minibatch\n",
        "            delta_nabla_b, delta_nabla_w = self.backprop(x, y)\n",
        "            nabla_w = [nw+dnw for nw, dnw in zip(nabla_w, delta_nabla_w)]\n",
        "            nabla_b = [nb+dnb for nb, dnb in zip(nabla_b, delta_nabla_b)]\n",
        "            \n",
        "        #atualiza pesos e limiares (𝜂*𝛿*f’(net)*𝑥)  \n",
        "        self.weights = [w-(𝜂/len(mini_batch))*nw for w, nw in zip(self.weights, nabla_w)]\n",
        "        self.biases = [b-(𝜂/len(mini_batch))*nb for b, nb in zip(self.biases, nabla_b)]\n",
        "\n",
        "    def backprop(self, x, y):\n",
        "        \"\"\"Retorna uma tupla `(nabla_b, nabla_w)` representando o\n",
        "         gradiente para a função de custo J_x. `nabla_b` e\n",
        "         `nabla_w` são listas de camadas de matrizes numpy, semelhantes\n",
        "         a `self.biases` e `self.weights`.\"\"\"\n",
        "        nabla_w = [np.zeros(w.shape) for w in self.weights]\n",
        "        nabla_b = [np.zeros(b.shape) for b in self.biases]\n",
        "        \n",
        "        # Feedforward\n",
        "        activation = x\n",
        "\n",
        "        # Lista para armazenar todas as saídas dos neurônios (z), camada por camada\n",
        "        activations = [x] \n",
        "\n",
        "        # Lista para armazenar todos os vetores net, camada por camada\n",
        "        nets = [] \n",
        "\n",
        "        for b, w in zip(self.biases, self.weights):\n",
        "            net = np.dot(w, activation)+b   \n",
        "            nets.append(net)\n",
        "            #activation = sigmoid(net) #z = valor de saída do neurônio\n",
        "            activation = activate(net, self.activate_function)\n",
        "            activations.append(activation)\n",
        "        \n",
        "        # Backward pass \n",
        "        \n",
        "        #última camada -(u-z)f'(net)\n",
        "        #delta = self.cost_derivative(activations[-1], y) * sigmoid_prime(net[-1])\n",
        "        delta = self.cost_derivative(activations[-1], y) * activate_prime(net[-1], self.activate_function)\n",
        "        nabla_b[-1] = delta\n",
        "        nabla_w[-1] = np.dot(delta, activations[-2].transpose()) #(𝑦−𝑧)*f’(net)*𝑥\n",
        "        \n",
        "        # l = 1 significa a última camada de neurônios, l = 2 é a penúltima e assim por diante. \n",
        "        for l in range(2, self.num_layers):\n",
        "            net = nets[-l]\n",
        "            #zs = sigmoid_prime(net)\n",
        "            zs = activate_prime(net, self.activate_function)\n",
        "            #delta da camada intermediaria. Note que utiliza o delta calculado anteriormente\n",
        "            delta = np.dot(self.weights[-l+1].transpose(), delta) * zs \n",
        "            nabla_b[-l] = delta\n",
        "            nabla_w[-l] = np.dot(delta, activations[-l-1].transpose()) #∑(𝛿𝑤)f’(net)𝑥\n",
        "        return (nabla_b, nabla_w)\n",
        "\n",
        "    def evaluate(self, test_data):\n",
        "        \"\"\"Retorna o número de entradas de teste para as quais a rede neural \n",
        "         produz o resultado correto. Note que a saída da rede neural\n",
        "         é considerada o índice de qualquer que seja\n",
        "         neurônio na camada final que tenha a maior ativação.\"\"\"\n",
        "\n",
        "        test_results = [(np.argmax(self.feedforward(x)), y) for (x, y) in test_data]\n",
        "        return sum(int(x == y) for (x, y) in test_results)\n",
        "\n",
        "    def cost_derivative(self, output_activations, y):\n",
        "        \"\"\"Retorna o vetor das derivadas parciais.\"\"\"\n",
        "        return (output_activations-y)\n",
        "\n",
        "# Função de Ativação Sigmóide\n",
        "def sigmoid(net):\n",
        "    return 1.0/(1.0+np.exp(-net))\n",
        "\n",
        "# Função para retornar as derivadas da função Sigmóide\n",
        "def sigmoid_prime(z):\n",
        "    return sigmoid(z)*(1-sigmoid(z))\n",
        "\n",
        "def relu(z):\n",
        "   return np.maximum(0,z)\n",
        "\n",
        "def relu_prime(z):\n",
        "    return (z>0).astype(z.dtype)\n",
        "\n",
        "#Função de ativação genérica\n",
        "def activate(z, activate_function):\n",
        "  if activate_function=='RELU':\n",
        "    return relu(z)\n",
        "  return sigmoid(z)\n",
        "\n",
        "def activate_prime(z, activate_function):\n",
        "  if activate_function=='RELU':\n",
        "    return relu_prime(z)\n",
        "  return sigmoid_prime(z)\n"
      ],
      "execution_count": 5,
      "outputs": []
    },
    {
      "cell_type": "markdown",
      "metadata": {
        "id": "6lndK7bt9F6d"
      },
      "source": [
        "Como exemplo, essa mesma rede será executada na base de dados MNIST. O codigo abaixo carrega a base de dados."
      ]
    },
    {
      "cell_type": "code",
      "metadata": {
        "id": "KOZwqOkDv3t-"
      },
      "source": [
        "# Carregar o dataset MNIST\n",
        "\n",
        "# Imports\n",
        "import pickle\n",
        "import gzip\n",
        "import numpy as np\n",
        "from keras.utils import np_utils\n",
        "\n",
        "def load_data():\n",
        "    f = gzip.open('redes_neurais_pos/MLP/mnist.pkl.gz', 'rb')\n",
        "    training_data, validation_data, test_data = pickle.load(f, encoding=\"latin1\")\n",
        "    f.close()\n",
        "    return (training_data, validation_data, test_data)\n",
        "\n",
        "def load_data_wrapper_reduce():\n",
        "    tr_d, va_d, te_d = load_data()\n",
        "\n",
        "    #rescaled the input image values from [0, 255] to [0,1]\n",
        "    X_train = tr_d[0].reshape(len(tr_d[0]), 784)     \n",
        "    X_test = te_d[0].reshape(10000, 784)\n",
        "    X_train = X_train.astype('float32') / 255\n",
        "    X_test = X_test.astype('float32') / 255\n",
        "    Y_train = np_utils.to_categorical(tr_d[1], 10)\n",
        "    Y_test = np_utils.to_categorical(te_d[0], 10)\n",
        "\n",
        "    training_inputs = [np.reshape(x, (784, 1)) for x in X_train]\n",
        "    training_results = [vectorized_result(y) for y in Y_train]\n",
        "    training_data = zip(training_inputs, training_results)\n",
        "    validation_inputs = [np.reshape(x, (784, 1)) for x in va_d[0]]\n",
        "    validation_data = zip(validation_inputs, va_d[1])\n",
        "    test_inputs = [np.reshape(x, (784, 1)) for x in X_test]\n",
        "    test_data = zip(test_inputs, Y_test)\n",
        "    return (training_data, validation_data, test_data)\n",
        "\n",
        "def load_data_wrapper():\n",
        "    tr_d, va_d, te_d = load_data()\n",
        "    training_inputs = [np.reshape(x, (784, 1)) for x in tr_d[0]]\n",
        "    training_results = [vectorized_result(y) for y in tr_d[1]]\n",
        "    training_data = zip(training_inputs, training_results)\n",
        "    validation_inputs = [np.reshape(x, (784, 1)) for x in va_d[0]]\n",
        "    validation_data = zip(validation_inputs, va_d[1])\n",
        "    test_inputs = [np.reshape(x, (784, 1)) for x in te_d[0]]\n",
        "    test_data = zip(test_inputs, te_d[1])\n",
        "    return (training_data, validation_data, test_data)\n",
        "\n",
        "def vectorized_result(j):\n",
        "    e = np.zeros((10, 1))\n",
        "    e[j] = 1.0\n",
        "    return e\n"
      ],
      "execution_count": 6,
      "outputs": []
    },
    {
      "cell_type": "markdown",
      "metadata": {
        "id": "a2V5r3YW95A4"
      },
      "source": [
        "#Executa a rede neural\n",
        "\n",
        "Parâmetros de rede:\n",
        "         2º param é contagem de épocas\n",
        "         3º param é tamanho do lote\n",
        "         4º param é a taxa de aprendizado (𝜂)\n",
        "\n",
        "\n"
      ]
    },
    {
      "cell_type": "code",
      "metadata": {
        "id": "7c86ya6KrquI",
        "colab": {
          "base_uri": "https://localhost:8080/"
        },
        "outputId": "aea6196e-e078-4bbc-fbc5-6751b08f6a2e"
      },
      "source": [
        "training_data, validation_data, test_data = load_data_wrapper()\n",
        "training_data = list(training_data)\n",
        "test_data = list(test_data)\n",
        "TAXAS = [0.1, 0.3, 0.5]\n",
        "ARQS = [[784, 20, 10], [784, 30, 10], [784, 40, 10], [784, 10, 10, 10], [784, 20, 10, 10], [784, 30, 20, 10]]\n",
        "FUNCS = ['SIGMOID','RELU']\n",
        "colunas = [\"HiddenLayers\", \"Config\", \"Função\", \"Taxa\", \"Epoch\", \"Accur\"]\n",
        "resultado = pd.DataFrame(columns=colunas)\n",
        "contador = 0\n",
        "for taxa in TAXAS:\n",
        "  for func in FUNCS:\n",
        "    for arq in ARQS:\n",
        "      contador+=1\n",
        "      if contador>3: contador=1\n",
        "      print('\\n## HiddenLayers: {}, Config: {} ({}), Função: {}, Taxa: {}  ##'.format(len(arq)-2,contador,arq,func,taxa))\n",
        "      mlp = Network(arq)\n",
        "      df = mlp.SGD(training_data, 20, 32, taxa, test_data=test_data, activate_function=func, smart_tx=False,arq=arq)\n",
        "      frames = [resultado, df]\n",
        "      resultado = pd.concat(frames)"
      ],
      "execution_count": 7,
      "outputs": [
        {
          "output_type": "stream",
          "text": [
            "\n",
            "## HiddenLayers: 1, Config: 1 ([784, 20, 10]), Função: SIGMOID, Taxa: 0.1  ##\n",
            "\n",
            "## HiddenLayers: 1, Config: 2 ([784, 30, 10]), Função: SIGMOID, Taxa: 0.1  ##\n",
            "\n",
            "## HiddenLayers: 1, Config: 3 ([784, 40, 10]), Função: SIGMOID, Taxa: 0.1  ##\n",
            "\n",
            "## HiddenLayers: 2, Config: 1 ([784, 10, 10, 10]), Função: SIGMOID, Taxa: 0.1  ##\n",
            "\n",
            "## HiddenLayers: 2, Config: 2 ([784, 20, 10, 10]), Função: SIGMOID, Taxa: 0.1  ##\n",
            "\n",
            "## HiddenLayers: 2, Config: 3 ([784, 30, 20, 10]), Função: SIGMOID, Taxa: 0.1  ##\n",
            "\n",
            "## HiddenLayers: 1, Config: 1 ([784, 20, 10]), Função: RELU, Taxa: 0.1  ##\n",
            "\n",
            "## HiddenLayers: 1, Config: 2 ([784, 30, 10]), Função: RELU, Taxa: 0.1  ##\n",
            "\n",
            "## HiddenLayers: 1, Config: 3 ([784, 40, 10]), Função: RELU, Taxa: 0.1  ##\n",
            "\n",
            "## HiddenLayers: 2, Config: 1 ([784, 10, 10, 10]), Função: RELU, Taxa: 0.1  ##\n",
            "\n",
            "## HiddenLayers: 2, Config: 2 ([784, 20, 10, 10]), Função: RELU, Taxa: 0.1  ##\n",
            "\n",
            "## HiddenLayers: 2, Config: 3 ([784, 30, 20, 10]), Função: RELU, Taxa: 0.1  ##\n",
            "\n",
            "## HiddenLayers: 1, Config: 1 ([784, 20, 10]), Função: SIGMOID, Taxa: 0.3  ##\n",
            "\n",
            "## HiddenLayers: 1, Config: 2 ([784, 30, 10]), Função: SIGMOID, Taxa: 0.3  ##\n",
            "\n",
            "## HiddenLayers: 1, Config: 3 ([784, 40, 10]), Função: SIGMOID, Taxa: 0.3  ##\n",
            "\n",
            "## HiddenLayers: 2, Config: 1 ([784, 10, 10, 10]), Função: SIGMOID, Taxa: 0.3  ##\n",
            "\n",
            "## HiddenLayers: 2, Config: 2 ([784, 20, 10, 10]), Função: SIGMOID, Taxa: 0.3  ##\n",
            "\n",
            "## HiddenLayers: 2, Config: 3 ([784, 30, 20, 10]), Função: SIGMOID, Taxa: 0.3  ##\n",
            "\n",
            "## HiddenLayers: 1, Config: 1 ([784, 20, 10]), Função: RELU, Taxa: 0.3  ##\n",
            "\n",
            "## HiddenLayers: 1, Config: 2 ([784, 30, 10]), Função: RELU, Taxa: 0.3  ##\n",
            "\n",
            "## HiddenLayers: 1, Config: 3 ([784, 40, 10]), Função: RELU, Taxa: 0.3  ##\n",
            "\n",
            "## HiddenLayers: 2, Config: 1 ([784, 10, 10, 10]), Função: RELU, Taxa: 0.3  ##\n",
            "\n",
            "## HiddenLayers: 2, Config: 2 ([784, 20, 10, 10]), Função: RELU, Taxa: 0.3  ##\n",
            "\n",
            "## HiddenLayers: 2, Config: 3 ([784, 30, 20, 10]), Função: RELU, Taxa: 0.3  ##\n",
            "\n",
            "## HiddenLayers: 1, Config: 1 ([784, 20, 10]), Função: SIGMOID, Taxa: 0.5  ##\n",
            "\n",
            "## HiddenLayers: 1, Config: 2 ([784, 30, 10]), Função: SIGMOID, Taxa: 0.5  ##\n",
            "\n",
            "## HiddenLayers: 1, Config: 3 ([784, 40, 10]), Função: SIGMOID, Taxa: 0.5  ##\n",
            "\n",
            "## HiddenLayers: 2, Config: 1 ([784, 10, 10, 10]), Função: SIGMOID, Taxa: 0.5  ##\n",
            "\n",
            "## HiddenLayers: 2, Config: 2 ([784, 20, 10, 10]), Função: SIGMOID, Taxa: 0.5  ##\n",
            "\n",
            "## HiddenLayers: 2, Config: 3 ([784, 30, 20, 10]), Função: SIGMOID, Taxa: 0.5  ##\n",
            "\n",
            "## HiddenLayers: 1, Config: 1 ([784, 20, 10]), Função: RELU, Taxa: 0.5  ##\n",
            "\n",
            "## HiddenLayers: 1, Config: 2 ([784, 30, 10]), Função: RELU, Taxa: 0.5  ##\n",
            "\n",
            "## HiddenLayers: 1, Config: 3 ([784, 40, 10]), Função: RELU, Taxa: 0.5  ##\n",
            "\n",
            "## HiddenLayers: 2, Config: 1 ([784, 10, 10, 10]), Função: RELU, Taxa: 0.5  ##\n",
            "\n",
            "## HiddenLayers: 2, Config: 2 ([784, 20, 10, 10]), Função: RELU, Taxa: 0.5  ##\n",
            "\n",
            "## HiddenLayers: 2, Config: 3 ([784, 30, 20, 10]), Função: RELU, Taxa: 0.5  ##\n"
          ],
          "name": "stdout"
        }
      ]
    },
    {
      "cell_type": "markdown",
      "metadata": {
        "id": "rLJbbYrFdU_w"
      },
      "source": [
        "##**Mini-Projeto**\n",
        "1) Realizar avaliações modificando os seguintes parâmetros:     \n",
        "\n",
        "     a) Taxa de aprendizagem: 0.1, 0.3 e 0.5\n",
        "     b) Função de ativação RELU\n",
        "     c) Rede com uma camada intermediária com 3 configurações diferentes (Explicite a configuração utilizada)\n",
        "     d) Rede com duas camadas intermediárias com 3 configurações diferentes (Explicite a configuração utilizada)\n",
        "     \n",
        "      \n",
        "Complete a Tabela abaixo com os resultados (Pra cada configuração de camadas intermediárias, execute as 3 taxas de aprendizagem pra função de ativação Sigmoide e Relu):\n",
        "\n",
        "<pre>\n",
        "CONFIGURAÇÕES:\n",
        "  UMA Camada Intermediária:\n",
        "    1: [784, 20, 10], 2: [784, 30, 10], 3: [784, 40, 10]\n",
        "  DUAS Camadas Intermediárias:\n",
        "    1: [784, 10, 10, 10], 2: [784, 20, 10, 10], 3: [784, 30, 20, 10]\n",
        "</pre>\n",
        "\n",
        "\\begin{array}{|c|ccc|ccc|ccc|}\\hline\\\\ \\\\\n",
        "  1\\;Camada\\;Intermediária & & \\mathcal{𝜂=0.1} & &  & \\mathcal{𝜂=0.3} & & & \\mathcal{𝜂=0.5} &  & \\\\ \\hline \n",
        "Configurações & 1 & 2 & 3 & 1 & 2 & 3 & 1 & 2 & 3 & \\\\ \\hline\n",
        "Sigmoide  & 69.25 & 59.33 & 59.33 & &  & & &  &  & \\\\ \\hline \n",
        "Relu  & 10.09 & 10.07 & &  &  & & &  &  & \\\\ \\hline\n",
        "  2\\;Camadas\\;Intermediárias & & \\mathcal{𝜂=0.1} & &  & \\mathcal{𝜂=0.3} & & & \\mathcal{𝜂=0.5} &  & \\\\ \\hline \n",
        "Configurações & 1 & 2 & 3 & 1 & 2 & 3 & 1 & 2 & 3 & \\\\ \\hline \n",
        "Sigmoide  & 57.5 & 64.61 & 64.81 &  &  & & &  &  & \\\\ \\hline\n",
        "Relu  & & & &  &  & & &  &  & \\\\ \\hline\n",
        "\\end{array}\n",
        "\n",
        "2) Modifique a taxa de aprendizagem pra diminuir com o tempo. Execute com a melhor configuração encontrada. Melhorou o resultado?\n"
      ]
    },
    {
      "cell_type": "markdown",
      "metadata": {
        "id": "mHe0VEabd-Zp"
      },
      "source": [
        "# **Tabela da questão 1**"
      ]
    },
    {
      "cell_type": "code",
      "metadata": {
        "id": "rec6y_x7dwSP",
        "colab": {
          "base_uri": "https://localhost:8080/"
        },
        "outputId": "5351938c-d207-4efd-d985-05f83e5e7fa7"
      },
      "source": [
        "print(resultado.query('Epoch==19'))"
      ],
      "execution_count": 8,
      "outputs": [
        {
          "output_type": "stream",
          "text": [
            "  HiddenLayers             Config   Função  Taxa Epoch  Accur\n",
            "0            1      [784, 20, 10]  SIGMOID   0.1    19  71.44\n",
            "0            1      [784, 30, 10]  SIGMOID   0.1    19  67.58\n",
            "0            1      [784, 40, 10]  SIGMOID   0.1    19  68.86\n",
            "0            2  [784, 10, 10, 10]  SIGMOID   0.1    19  63.11\n",
            "0            2  [784, 20, 10, 10]  SIGMOID   0.1    19  63.56\n",
            "0            2  [784, 30, 20, 10]  SIGMOID   0.1    19  65.72\n",
            "0            1      [784, 20, 10]     RELU   0.1    19   8.91\n",
            "0            1      [784, 30, 10]     RELU   0.1    19  11.51\n",
            "0            1      [784, 40, 10]     RELU   0.1    19   9.80\n",
            "0            2  [784, 10, 10, 10]     RELU   0.1    19  11.61\n",
            "0            2  [784, 20, 10, 10]     RELU   0.1    19   9.80\n",
            "0            2  [784, 30, 20, 10]     RELU   0.1    19   9.80\n",
            "0            1      [784, 20, 10]  SIGMOID   0.3    19  72.06\n",
            "0            1      [784, 30, 10]  SIGMOID   0.3    19  72.35\n",
            "0            1      [784, 40, 10]  SIGMOID   0.3    19  76.71\n",
            "0            2  [784, 10, 10, 10]  SIGMOID   0.3    19  55.09\n",
            "0            2  [784, 20, 10, 10]  SIGMOID   0.3    19  68.67\n",
            "0            2  [784, 30, 20, 10]  SIGMOID   0.3    19  71.67\n",
            "0            1      [784, 20, 10]     RELU   0.3    19  10.10\n",
            "0            1      [784, 30, 10]     RELU   0.3    19   9.81\n",
            "0            1      [784, 40, 10]     RELU   0.3    19   9.80\n",
            "0            2  [784, 10, 10, 10]     RELU   0.3    19   9.80\n",
            "0            2  [784, 20, 10, 10]     RELU   0.3    19  11.35\n",
            "0            2  [784, 30, 20, 10]     RELU   0.3    19   9.74\n",
            "0            1      [784, 20, 10]  SIGMOID   0.5    19  70.89\n",
            "0            1      [784, 30, 10]  SIGMOID   0.5    19  67.43\n",
            "0            1      [784, 40, 10]  SIGMOID   0.5    19  65.86\n",
            "0            2  [784, 10, 10, 10]  SIGMOID   0.5    19  61.03\n",
            "0            2  [784, 20, 10, 10]  SIGMOID   0.5    19  56.97\n",
            "0            2  [784, 30, 20, 10]  SIGMOID   0.5    19  74.25\n",
            "0            1      [784, 20, 10]     RELU   0.5    19   9.80\n",
            "0            1      [784, 30, 10]     RELU   0.5    19   9.80\n",
            "0            1      [784, 40, 10]     RELU   0.5    19   9.80\n",
            "0            2  [784, 10, 10, 10]     RELU   0.5    19   9.80\n",
            "0            2  [784, 20, 10, 10]     RELU   0.5    19   9.38\n",
            "0            2  [784, 30, 20, 10]     RELU   0.5    19  11.35\n"
          ],
          "name": "stdout"
        }
      ]
    },
    {
      "cell_type": "code",
      "metadata": {
        "id": "ybFaiwqZ-c9s"
      },
      "source": [
        ""
      ],
      "execution_count": null,
      "outputs": []
    },
    {
      "cell_type": "code",
      "metadata": {
        "id": "eKN8CcxYgtfT",
        "colab": {
          "base_uri": "https://localhost:8080/"
        },
        "outputId": "06b95465-53be-4684-c2bc-2c6aedac87e3"
      },
      "source": [
        "resultado = resultado.sort_values(by=[\"Accur\"],ascending=False)\r\n",
        "resultado = resultado.reset_index(drop=True)\r\n",
        "melhor = resultado.loc[0]\r\n",
        "print(resultado.iloc[0])\r\n",
        "mlp = Network(resultado.iloc[0][1])\r\n",
        "df = mlp.SGD(training_data, 20, 32, resultado.iloc[0][3], test_data=test_data, activate_function=resultado.iloc[0][2], smart_tx=True,arq=resultado.iloc[0][1])\r\n",
        "print(df.iloc[19])"
      ],
      "execution_count": 9,
      "outputs": [
        {
          "output_type": "stream",
          "text": [
            "HiddenLayers                1\n",
            "Config          [784, 40, 10]\n",
            "Função                SIGMOID\n",
            "Taxa                      0.3\n",
            "Epoch                      19\n",
            "Accur                   76.71\n",
            "Name: 0, dtype: object\n",
            "HiddenLayers                1\n",
            "Config          [784, 40, 10]\n",
            "Função                SIGMOID\n",
            "Taxa                 0.163138\n",
            "Epoch                      19\n",
            "Accur                   72.54\n",
            "Name: 0, dtype: object\n"
          ],
          "name": "stdout"
        }
      ]
    },
    {
      "cell_type": "code",
      "metadata": {
        "id": "-vPyzA19wu9n",
        "outputId": "03aff946-5708-49db-d8a9-54fc6e46bab5",
        "colab": {
          "base_uri": "https://localhost:8080/"
        }
      },
      "source": [
        "print(resultado.iloc[1])\r\n",
        "print(resultado.iloc[2])"
      ],
      "execution_count": 10,
      "outputs": [
        {
          "output_type": "stream",
          "text": [
            "HiddenLayers                1\n",
            "Config          [784, 40, 10]\n",
            "Função                SIGMOID\n",
            "Taxa                      0.3\n",
            "Epoch                      18\n",
            "Accur                   76.66\n",
            "Name: 1, dtype: object\n",
            "HiddenLayers                1\n",
            "Config          [784, 40, 10]\n",
            "Função                SIGMOID\n",
            "Taxa                      0.3\n",
            "Epoch                      17\n",
            "Accur                    76.6\n",
            "Name: 2, dtype: object\n"
          ],
          "name": "stdout"
        }
      ]
    },
    {
      "cell_type": "markdown",
      "metadata": {
        "id": "eF73WKyzlZnw"
      },
      "source": [
        "# **Resposta da Questão 2**"
      ]
    },
    {
      "cell_type": "code",
      "metadata": {
        "id": "v5P8vl2jlgGf",
        "colab": {
          "base_uri": "https://localhost:8080/"
        },
        "outputId": "1f0b7a8f-d6ba-4c46-85f4-801b4299b326"
      },
      "source": [
        "if( resultado.iloc[0][5] > df.iloc[0][5]):\r\n",
        "  print(\"O resultado piorou\")\r\n",
        "elif (resultado.iloc[0][5] == df.iloc[0][5]):\r\n",
        "  print (\"Não houve modificação no resultado\")\r\n",
        "else:\r\n",
        "  print(\"O resultado melhorou\")"
      ],
      "execution_count": null,
      "outputs": [
        {
          "output_type": "stream",
          "text": [
            "O resultado piorou\n"
          ],
          "name": "stdout"
        }
      ]
    }
  ]
}